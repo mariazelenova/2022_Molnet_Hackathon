{
 "cells": [
  {
   "cell_type": "markdown",
   "id": "dc59d530",
   "metadata": {},
   "source": [
    "# 1. Создание базы данных в SQLite"
   ]
  },
  {
   "cell_type": "markdown",
   "id": "a4d75fef",
   "metadata": {},
   "source": [
    "Загрузка ipython-sql library; % и %%  - это предустановленные \"magic functions\" "
   ]
  },
  {
   "cell_type": "code",
   "execution_count": 1,
   "id": "758f1252",
   "metadata": {},
   "outputs": [],
   "source": [
    "%load_ext sql"
   ]
  },
  {
   "cell_type": "code",
   "execution_count": 4,
   "id": "e06c4d6b",
   "metadata": {},
   "outputs": [],
   "source": [
    "%sql sqlite:///Patients.db"
   ]
  },
  {
   "cell_type": "code",
   "execution_count": 3,
   "id": "7adab0d6",
   "metadata": {
    "scrolled": true
   },
   "outputs": [
    {
     "name": "stdout",
     "output_type": "stream",
     "text": [
      " * sqlite:///New.db\n",
      "Done.\n"
     ]
    },
    {
     "data": {
      "text/plain": [
       "[]"
      ]
     },
     "execution_count": 3,
     "metadata": {},
     "output_type": "execute_result"
    }
   ],
   "source": [
    "%%sql\n",
    "    CREATE TABLE Aberrations(\n",
    "        Patient_id INTEGER PRIMARY KEY AUTOINCREMENT, \n",
    "        Journal_id INT,\n",
    "        Abb_type VARCHAR(30),\n",
    "        Abb VARCHAR(100)\n",
    "        );"
   ]
  },
  {
   "cell_type": "code",
   "execution_count": null,
   "id": "1f9afa8b",
   "metadata": {},
   "outputs": [],
   "source": [
    "%%sql\n",
    "    INSERT INTO Aberrations (Journal_id, Abb_type, Abb) \n",
    "    VALUES \n",
    "    (125, \"Дупликация\", \"Xq28(154,019,722-154,032,369)×3\"),\n",
    "    (186, \"Делеция\", \"6q11.1q14.1(62,118,669-80,897,321)×1\"),\n",
    "    (200, \"Делеция\", \"1p32.1p31.1(59,525,570-71,600,905)×1\"),\n",
    "    (205, \"Дупликация\",\"7q21.2(91,490,967-91,550,018)×3\"),\n",
    "    (300, \"Делеция\", \"Yq11.23(26,584,213-27,420,219)×0\"),\n",
    "    (407, \"Дупликация\", \"Xp22.33(614,934-631,408)×3\");"
   ]
  },
  {
   "cell_type": "code",
   "execution_count": null,
   "id": "9bc9145d",
   "metadata": {},
   "outputs": [],
   "source": [
    "%%sql\n",
    " select * from Aberrations"
   ]
  },
  {
   "cell_type": "code",
   "execution_count": null,
   "id": "0354c2c0",
   "metadata": {},
   "outputs": [],
   "source": [
    "%%sql\n",
    "    CREATE TABLE Age(\n",
    "        Patient_id INTEGER PRIMARY KEY AUTOINCREMENT, \n",
    "        Journal_id INT,\n",
    "        Age INT\n",
    "        );"
   ]
  },
  {
   "cell_type": "code",
   "execution_count": null,
   "id": "eff2564b",
   "metadata": {},
   "outputs": [],
   "source": [
    "%%sql\n",
    "    INSERT INTO Age (Journal_id, Age) \n",
    "    VALUES \n",
    "    (125, 1),\n",
    "    (186, 4 ),\n",
    "    (200, 1),\n",
    "    (205, 9),\n",
    "    (300, 16),\n",
    "    (407, 2);"
   ]
  },
  {
   "cell_type": "code",
   "execution_count": null,
   "id": "f7d26cf5",
   "metadata": {},
   "outputs": [],
   "source": [
    "%%sql\n",
    "    select * from age"
   ]
  },
  {
   "cell_type": "code",
   "execution_count": null,
   "id": "42b4942e",
   "metadata": {},
   "outputs": [],
   "source": [
    "%%sql\n",
    "    CREATE TABLE Gender(\n",
    "        Patient_id INTEGER PRIMARY KEY AUTOINCREMENT, \n",
    "        Journal_id INT,\n",
    "        Gender VARCHAR(30)\n",
    "        );"
   ]
  },
  {
   "cell_type": "code",
   "execution_count": null,
   "id": "a9f16efa",
   "metadata": {},
   "outputs": [],
   "source": [
    "%%sql\n",
    "    INSERT INTO Gender (Journal_id, Gender) \n",
    "    VALUES \n",
    "    (125, \"Женский\"),\n",
    "    (186, \"Женский\"),\n",
    "    (200, \"Мужской\"),\n",
    "    (205, \"Мужской\"),\n",
    "    (300, \"Мужской\"),\n",
    "    (407, \"Мужской\");"
   ]
  },
  {
   "cell_type": "code",
   "execution_count": null,
   "id": "036ff4b2",
   "metadata": {},
   "outputs": [],
   "source": [
    "%%sql\n",
    "    select * from Gender"
   ]
  },
  {
   "cell_type": "code",
   "execution_count": null,
   "id": "3909d0fd",
   "metadata": {
    "scrolled": true
   },
   "outputs": [],
   "source": [
    "%%sql\n",
    "    CREATE TABLE Analysis_date(\n",
    "        Patient_id INTEGER PRIMARY KEY AUTOINCREMENT, \n",
    "        Journal_id INT,\n",
    "        Sample_received DATE NOT NULL,\n",
    "        Result_ready DATE NOT NULL\n",
    "        );"
   ]
  },
  {
   "cell_type": "code",
   "execution_count": null,
   "id": "969d2519",
   "metadata": {},
   "outputs": [],
   "source": [
    "%%sql\n",
    "    INSERT INTO Analysis_date (Journal_id, Sample_received, Result_ready) \n",
    "    VALUES \n",
    "    (125, '2015-05-23','2015-07-30'),\n",
    "    (186, '2015-08-13','2015-11-30'),\n",
    "    (200, '2016-03-11','2016-07-01'),\n",
    "    (205, '2018-10-03','2018-12-10'),\n",
    "    (300, '2019-01-07','2019-02-29'),\n",
    "    (407, '2019-02-23','2019-04-02');"
   ]
  },
  {
   "cell_type": "code",
   "execution_count": null,
   "id": "ad98472f",
   "metadata": {
    "scrolled": true
   },
   "outputs": [],
   "source": [
    "%%sql\n",
    "    select * from Analysis_date"
   ]
  },
  {
   "cell_type": "markdown",
   "id": "c7b85d1f",
   "metadata": {},
   "source": [
    "# 2. Импорт библиотек, необходимых для создания соединения с SQLite и реализации интерфейса"
   ]
  },
  {
   "cell_type": "code",
   "execution_count": null,
   "id": "4292870d",
   "metadata": {},
   "outputs": [],
   "source": [
    "import sqlite3 #это DB-API модуль\n",
    "import PySimpleGUI as sg #Это библиотека для создания интерфейса"
   ]
  },
  {
   "cell_type": "markdown",
   "id": "95c4a307",
   "metadata": {},
   "source": [
    "# 3. Реализация связки sql и интерфейса; интерфейс"
   ]
  },
  {
   "cell_type": "code",
   "execution_count": null,
   "id": "d749bda7",
   "metadata": {},
   "outputs": [],
   "source": [
    "sg.theme('DarkAmber')   #Цвет интерфейса\n",
    "\n",
    "#расчет количества дней\n",
    "select =  f\"SELECT Dt.Journal_id, JULIANDAY(Dt.Result_ready), JULIANDAY(Dt.Sample_received)   \\\n",
    "        FROM Analysis_date Dt\"\n",
    "conn = sqlite3.connect('/Users/maria/Downloads/Patients.db')\n",
    "days = {}\n",
    "cursor = conn.execute(select)\n",
    "for row in cursor:\n",
    "    days[row[0]] = round(row[1] - row[2])\n",
    "    \n",
    "    \n",
    "#тело программы   \n",
    "def main():\n",
    "    # заполнение первого окна\n",
    "    layout = [  [sg.Text('Данное приложение предназначено для упрощения работы с данными')],\n",
    "                [sg.Text('Введите хромосому'), sg.InputText()],\n",
    "                [sg.Text('Введите возраст пациента для поиска по таблице'), sg.InputText()],\n",
    "                [sg.Button('Найти'), sg.Button('Отмена')] ]\n",
    "\n",
    "    #создаем окно\n",
    "    window = sg.Window('Программа управления базой данных пациентов', layout)\n",
    "    \n",
    "    #выбор параметров из окна\n",
    "    chromosome = str()\n",
    "    max_age = str()\n",
    "    while True:\n",
    "        event, values = window.read()\n",
    "        if event == sg.WIN_CLOSED or event == 'Отмена': # if user closes window or clicks cancel\n",
    "            break\n",
    "        print('You entered ', values[0], values[1])\n",
    "        chromosome = values[0]\n",
    "        max_age = values[1]\n",
    "        window.close() \n",
    "        \n",
    "    #формирование запроса для sql на основе введенных пользователем данных\n",
    "    if max_age == '':    \n",
    "        age_select = ''\n",
    "    else:    \n",
    "        age_select = f'and A.Age = {max_age}'\n",
    "    \n",
    "    select =  f\"SELECT A.Journal_id, A.Age, Ab.Abb, Ab.Abb_type, Dt.Sample_received, Dt.Result_ready \\\n",
    "                FROM Age A \\\n",
    "                LEFT OUTER JOIN Aberrations Ab \\\n",
    "                ON A.Patient_id = Ab.Patient_id \\\n",
    "                LEFT OUTER JOIN Analysis_date Dt \\\n",
    "                ON A.Patient_id = Dt.Patient_id \\\n",
    "                WHERE Ab.Abb LIKE '{chromosome}%' \" + age_select + \" GROUP BY A.Journal_id\"\n",
    "    \n",
    "    print(select)\n",
    "    \n",
    "    #забор данных из базы\n",
    "    result = str()\n",
    "    patients = []\n",
    "    cursor = conn.execute(select)\n",
    "    print(type(patients))\n",
    "    for row in cursor:\n",
    "        patients.append(row[0])\n",
    "        result = result + f\"Номер пациента в журнале: {row[0]}, \\n Возраст: {row[1]},\\n Хромосомная перестройка: {row[2]} типа {str(row[3]).lower()}  \\n \\n\"    \n",
    "\n",
    "    #окно вывода\n",
    "    layout = [  [sg.Text('Результат вывода:')],  \n",
    "                [sg.Text(result)],\n",
    "                [sg.Button('Узнать, сколько по времени готовился анализ', key=\"open\"), sg.Button('Выполнить новый поиск', key = 'return'), sg.Button('Готово, спасибо за программу', key = 'break')]]\n",
    "\n",
    "    window = sg.Window('Программа управления базой данных пациентов', layout)\n",
    "\n",
    "    while True:\n",
    "        event, values = window.read()\n",
    "        if event == sg.WIN_CLOSED or  event == 'break':\n",
    "            break\n",
    "            \n",
    "        elif event == 'open':\n",
    "            output = str()\n",
    "            for i in range(0, len(patients)):\n",
    "                output = output + f\"\\n Для пациента {patients[i]} анализ готовился {days[patients[i]]} дней\" \n",
    "            sg.popup(\"Время изготовления анализа\", output)\n",
    "        else:\n",
    "            main()\n",
    "    window.close()        \n",
    "    return()\n",
    "\n",
    "main()         \n",
    "        \n",
    "conn.close()"
   ]
  }
 ],
 "metadata": {
  "kernelspec": {
   "display_name": "Python 3",
   "language": "python",
   "name": "python3"
  },
  "language_info": {
   "codemirror_mode": {
    "name": "ipython",
    "version": 3
   },
   "file_extension": ".py",
   "mimetype": "text/x-python",
   "name": "python",
   "nbconvert_exporter": "python",
   "pygments_lexer": "ipython3",
   "version": "3.8.10"
  }
 },
 "nbformat": 4,
 "nbformat_minor": 5
}
